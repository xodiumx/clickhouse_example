{
 "cells": [
  {
   "cell_type": "code",
   "execution_count": 11,
   "metadata": {},
   "outputs": [
    {
     "data": {
      "text/plain": [
       "[]"
      ]
     },
     "execution_count": 11,
     "metadata": {},
     "output_type": "execute_result"
    }
   ],
   "source": [
    "from clickhouse_driver import Client\n",
    "\n",
    "client = Client('localhost', port=9000)\n",
    "\n",
    "client.execute('''CREATE DATABASE db''')"
   ]
  },
  {
   "cell_type": "markdown",
   "metadata": {},
   "source": [
    "> In the first showcase, a table is created which, when accessed, \n",
    ">\n",
    ">gives you the coordinates of the `ISS` (International Space Station,) at the current moment:"
   ]
  },
  {
   "cell_type": "code",
   "execution_count": 12,
   "metadata": {},
   "outputs": [
    {
     "data": {
      "text/plain": [
       "[]"
      ]
     },
     "execution_count": 12,
     "metadata": {},
     "output_type": "execute_result"
    }
   ],
   "source": [
    "client = Client('localhost', port=9000, database='db')\n",
    "\n",
    "client.execute(\n",
    "'''\n",
    "create view mks as \n",
    "SELECT *\n",
    "FROM url('http://api.open-notify.org/iss-now.json', JSONAsString, 'json String');\n",
    "'''\n",
    ")"
   ]
  },
  {
   "cell_type": "markdown",
   "metadata": {},
   "source": [
    "> The second dataset contains cities with their coordinates:"
   ]
  },
  {
   "cell_type": "code",
   "execution_count": 13,
   "metadata": {},
   "outputs": [
    {
     "data": {
      "text/plain": [
       "[]"
      ]
     },
     "execution_count": 13,
     "metadata": {},
     "output_type": "execute_result"
    }
   ],
   "source": [
    "client.execute(\n",
    "'''\n",
    "create view cities as\n",
    "SELECT *\n",
    "FROM url(\n",
    "    'https://raw.githubusercontent.com/dmitrii12334/clickhouse/main/cities',\n",
    "    CSVWithNames,\n",
    "    'region String, city String, latitude Float64, longitude Float64');\n",
    "'''\n",
    ")"
   ]
  },
  {
   "cell_type": "markdown",
   "metadata": {},
   "source": [
    "> The distance between the ISS (international space station) and the nearest 10 cities:"
   ]
  },
  {
   "cell_type": "code",
   "execution_count": 14,
   "metadata": {},
   "outputs": [
    {
     "data": {
      "text/plain": [
       "[(\"Mek'ele\", 40.4797, 13.7663, 39.47528, 13.49667, 112.60484375),\n",
       " ('Ādīgrat', 40.4797, 13.7663, 39.462, 14.277, 123.60765625),\n",
       " ('Edd', 40.4797, 13.7663, 41.6938, 13.93088, 132.349265625),\n",
       " ('Maych’ew', 40.4797, 13.7663, 39.54222, 12.7875, 148.791984375),\n",
       " ('Adi Keyh', 40.4797, 13.7663, 39.37722, 14.84444, 168.7688125),\n",
       " ('Korem', 40.4797, 13.7663, 39.52278, 12.50583, 174.302609375),\n",
       " ('Axum', 40.4797, 13.7663, 38.72337, 14.12109, 193.60221875),\n",
       " ('Dek’emhāre', 40.4797, 13.7663, 39.0475, 15.07, 211.669625),\n",
       " ('Robīt', 40.4797, 13.7663, 39.63333, 12.01667, 215.09515625),\n",
       " ('Mendefera', 40.4797, 13.7663, 38.81528, 14.88722, 218.381828125)]"
      ]
     },
     "execution_count": 14,
     "metadata": {},
     "output_type": "execute_result"
    }
   ],
   "source": [
    "client.execute(\n",
    "'''\n",
    "select\n",
    "    city,\n",
    "    toFloat64(JSONExtractString(\n",
    "    JSONExtractString(json, 'iss_position'), 'longitude')) as mks_longitude,\n",
    "    toFloat64(JSONExtractString(\n",
    "    JSONExtractString(json, 'iss_position'), 'latitude')) as mks_latitude,\n",
    "    cities.longitude as city_long,\n",
    "    cities.latitude as city_lat,\n",
    "    greatCircleDistance(mks_longitude, mks_latitude, city_long, city_lat) / 1000 as distance\n",
    "from mks, cities\n",
    "order by distance\n",
    "limit 10\n",
    "'''\n",
    ")"
   ]
  }
 ],
 "metadata": {
  "kernelspec": {
   "display_name": "Python 3",
   "language": "python",
   "name": "python3"
  },
  "language_info": {
   "codemirror_mode": {
    "name": "ipython",
    "version": 3
   },
   "file_extension": ".py",
   "mimetype": "text/x-python",
   "name": "python",
   "nbconvert_exporter": "python",
   "pygments_lexer": "ipython3",
   "version": "3.11.3"
  }
 },
 "nbformat": 4,
 "nbformat_minor": 2
}
